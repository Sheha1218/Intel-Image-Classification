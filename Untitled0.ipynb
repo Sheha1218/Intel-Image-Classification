{
  "nbformat": 4,
  "nbformat_minor": 0,
  "metadata": {
    "colab": {
      "provenance": [],
      "gpuType": "T4",
      "authorship_tag": "ABX9TyPJ8Kuar/MC5Mo6BZDizGdy",
      "include_colab_link": true
    },
    "kernelspec": {
      "name": "python3",
      "display_name": "Python 3"
    },
    "language_info": {
      "name": "python"
    },
    "accelerator": "GPU"
  },
  "cells": [
    {
      "cell_type": "markdown",
      "metadata": {
        "id": "view-in-github",
        "colab_type": "text"
      },
      "source": [
        "<a href=\"https://colab.research.google.com/github/Sheha1218/Intel-Image-Classification/blob/main/Untitled0.ipynb\" target=\"_parent\"><img src=\"https://colab.research.google.com/assets/colab-badge.svg\" alt=\"Open In Colab\"/></a>"
      ]
    },
    {
      "cell_type": "code",
      "execution_count": null,
      "metadata": {
        "id": "kMLHK9d7w3Ds",
        "colab": {
          "base_uri": "https://localhost:8080/"
        },
        "outputId": "2b6eb6ef-dd44-42fd-86b4-f476ba55e784"
      },
      "outputs": [
        {
          "output_type": "stream",
          "name": "stdout",
          "text": [
            "Collecting opendatasets\n",
            "  Downloading opendatasets-0.1.22-py3-none-any.whl.metadata (9.2 kB)\n",
            "Requirement already satisfied: tqdm in /usr/local/lib/python3.12/dist-packages (from opendatasets) (4.67.1)\n",
            "Requirement already satisfied: kaggle in /usr/local/lib/python3.12/dist-packages (from opendatasets) (1.7.4.5)\n",
            "Requirement already satisfied: click in /usr/local/lib/python3.12/dist-packages (from opendatasets) (8.2.1)\n",
            "Requirement already satisfied: bleach in /usr/local/lib/python3.12/dist-packages (from kaggle->opendatasets) (6.2.0)\n",
            "Requirement already satisfied: certifi>=14.05.14 in /usr/local/lib/python3.12/dist-packages (from kaggle->opendatasets) (2025.8.3)\n",
            "Requirement already satisfied: charset-normalizer in /usr/local/lib/python3.12/dist-packages (from kaggle->opendatasets) (3.4.3)\n",
            "Requirement already satisfied: idna in /usr/local/lib/python3.12/dist-packages (from kaggle->opendatasets) (3.10)\n",
            "Requirement already satisfied: protobuf in /usr/local/lib/python3.12/dist-packages (from kaggle->opendatasets) (5.29.5)\n",
            "Requirement already satisfied: python-dateutil>=2.5.3 in /usr/local/lib/python3.12/dist-packages (from kaggle->opendatasets) (2.9.0.post0)\n",
            "Requirement already satisfied: python-slugify in /usr/local/lib/python3.12/dist-packages (from kaggle->opendatasets) (8.0.4)\n",
            "Requirement already satisfied: requests in /usr/local/lib/python3.12/dist-packages (from kaggle->opendatasets) (2.32.4)\n",
            "Requirement already satisfied: setuptools>=21.0.0 in /usr/local/lib/python3.12/dist-packages (from kaggle->opendatasets) (75.2.0)\n",
            "Requirement already satisfied: six>=1.10 in /usr/local/lib/python3.12/dist-packages (from kaggle->opendatasets) (1.17.0)\n",
            "Requirement already satisfied: text-unidecode in /usr/local/lib/python3.12/dist-packages (from kaggle->opendatasets) (1.3)\n",
            "Requirement already satisfied: urllib3>=1.15.1 in /usr/local/lib/python3.12/dist-packages (from kaggle->opendatasets) (2.5.0)\n",
            "Requirement already satisfied: webencodings in /usr/local/lib/python3.12/dist-packages (from kaggle->opendatasets) (0.5.1)\n",
            "Downloading opendatasets-0.1.22-py3-none-any.whl (15 kB)\n",
            "Installing collected packages: opendatasets\n",
            "Successfully installed opendatasets-0.1.22\n"
          ]
        }
      ],
      "source": [
        "!pip install opendatasets"
      ]
    },
    {
      "cell_type": "code",
      "source": [
        "import numpy as np\n",
        "import opendatasets as od\n",
        "import tensorflow as tf\n",
        "from tensorflow.keras import layers,models\n",
        "import cv2 as cv"
      ],
      "metadata": {
        "id": "2F7sAatk9_GX"
      },
      "execution_count": null,
      "outputs": []
    },
    {
      "cell_type": "code",
      "source": [
        "od.download('https://www.kaggle.com/datasets/puneet6060/intel-image-classification')"
      ],
      "metadata": {
        "colab": {
          "base_uri": "https://localhost:8080/"
        },
        "id": "s6oxwsGn-SMU",
        "outputId": "90240a05-af9a-4a31-a960-376f0659fbcc"
      },
      "execution_count": null,
      "outputs": [
        {
          "output_type": "stream",
          "name": "stdout",
          "text": [
            "Please provide your Kaggle credentials to download this dataset. Learn more: http://bit.ly/kaggle-creds\n",
            "Your Kaggle username: shehangunathilaka\n",
            "Your Kaggle Key: ··········\n",
            "Dataset URL: https://www.kaggle.com/datasets/puneet6060/intel-image-classification\n",
            "Downloading intel-image-classification.zip to ./intel-image-classification\n"
          ]
        },
        {
          "output_type": "stream",
          "name": "stderr",
          "text": [
            "100%|██████████| 346M/346M [00:00<00:00, 511MB/s]\n"
          ]
        },
        {
          "output_type": "stream",
          "name": "stdout",
          "text": [
            "\n"
          ]
        }
      ]
    },
    {
      "cell_type": "code",
      "source": [
        "data_dir=('/content/intel-image-classification/seg_train/seg_train')"
      ],
      "metadata": {
        "id": "88GJMJZx-X3R"
      },
      "execution_count": null,
      "outputs": []
    },
    {
      "cell_type": "code",
      "source": [
        "BATCH_SIZE=32\n",
        "IMAGE_SIZE=(255,255)"
      ],
      "metadata": {
        "id": "IfkdAMUGUri5"
      },
      "execution_count": null,
      "outputs": []
    },
    {
      "cell_type": "code",
      "source": [
        "data=tf.keras.preprocessing.image_dataset_from_directory(data_dir,\n",
        "                                                         batch_size=BATCH_SIZE,\n",
        "                                                         image_size=IMAGE_SIZE,\n",
        "                                                         subset='training',\n",
        "                                                         validation_split=0.1,\n",
        "                                                         seed=42)\n",
        "\n",
        "validation_data=tf.keras.preprocessing.image_dataset_from_directory(data_dir,\n",
        "                                                                 batch_size=BATCH_SIZE,\n",
        "                                                                  image_size=IMAGE_SIZE,\n",
        "                                                                  subset='validation',\n",
        "                                                                  validation_split=0.1,\n",
        "                                                                  seed=42)"
      ],
      "metadata": {
        "colab": {
          "base_uri": "https://localhost:8080/"
        },
        "id": "a5I06H9WU0JF",
        "outputId": "b1534f44-f2e2-4474-9bdd-668dfa7fab65"
      },
      "execution_count": null,
      "outputs": [
        {
          "output_type": "stream",
          "name": "stdout",
          "text": [
            "Found 14034 files belonging to 6 classes.\n",
            "Using 12631 files for training.\n",
            "Found 14034 files belonging to 6 classes.\n",
            "Using 1403 files for validation.\n"
          ]
        }
      ]
    },
    {
      "cell_type": "code",
      "source": [
        "data.class_names"
      ],
      "metadata": {
        "colab": {
          "base_uri": "https://localhost:8080/"
        },
        "id": "qGx1vb0GWNg2",
        "outputId": "e999dd54-7783-46c0-b0fa-6f394e9d10d0"
      },
      "execution_count": null,
      "outputs": [
        {
          "output_type": "execute_result",
          "data": {
            "text/plain": [
              "['buildings', 'forest', 'glacier', 'mountain', 'sea', 'street']"
            ]
          },
          "metadata": {},
          "execution_count": 7
        }
      ]
    },
    {
      "cell_type": "code",
      "source": [
        "num_class=len(data.class_names)"
      ],
      "metadata": {
        "id": "ZNMJJE0ixbje"
      },
      "execution_count": null,
      "outputs": []
    },
    {
      "cell_type": "code",
      "source": [
        "for image_batch,label_batch in data.take(1):\n",
        "  print(f'Image batch is {image_batch}')\n",
        "  print(f'Label batch is {label_batch}')"
      ],
      "metadata": {
        "colab": {
          "base_uri": "https://localhost:8080/"
        },
        "id": "3iEhcKZpWlTO",
        "outputId": "866a5619-3a8f-4850-b4da-ca4fc4007fce"
      },
      "execution_count": null,
      "outputs": [
        {
          "output_type": "stream",
          "name": "stdout",
          "text": [
            "Image batch is [[[[ 10.          21.          15.        ]\n",
            "   [ 12.676471    24.441177    18.058823  ]\n",
            "   [ 16.794119    29.735294    22.764706  ]\n",
            "   ...\n",
            "   [108.911255   109.881836   101.76416   ]\n",
            "   [ 67.1461      67.52844     57.0578    ]\n",
            "   [ 40.          40.          28.        ]]\n",
            "\n",
            "  [[ 14.970589    25.970589    19.970589  ]\n",
            "   [ 19.693771    31.458477    24.783737  ]\n",
            "   [ 26.960209    39.901386    32.188583  ]\n",
            "   ...\n",
            "   [117.266685   118.23727    110.11959   ]\n",
            "   [ 66.72981     67.11215     56.64151   ]\n",
            "   [ 33.882355    33.882355    21.882353  ]]\n",
            "\n",
            "  [[ 22.61765     33.61765     27.61765   ]\n",
            "   [ 30.48962     42.254326    35.12976   ]\n",
            "   [ 42.60035     55.541527    46.686855  ]\n",
            "   ...\n",
            "   [130.12119    131.09177    122.9741    ]\n",
            "   [ 66.08936     66.4717      56.00106   ]\n",
            "   [ 24.470587    24.470587    12.470587  ]]\n",
            "\n",
            "  ...\n",
            "\n",
            "  [[179.6178     176.58838    161.67664   ]\n",
            "   [112.12121    111.4084      99.8591    ]\n",
            "   [  8.280285    11.131504     4.755176  ]\n",
            "   ...\n",
            "   [162.38693    154.15158    133.0339    ]\n",
            "   [ 86.60803     78.37268     56.078518  ]\n",
            "   [ 37.354004    29.118652     6.0598145 ]]\n",
            "\n",
            "  [[191.97087    188.35321    175.20619   ]\n",
            "   [120.42579    119.574585   108.21559   ]\n",
            "   [ 10.356436    13.761286     5.153103  ]\n",
            "   ...\n",
            "   [187.78558    174.8443     152.55014   ]\n",
            "   [149.37772    136.43643    112.96579   ]\n",
            "   [124.41376    111.47247     87.23715   ]]\n",
            "\n",
            "  [[200.         196.         184.        ]\n",
            "   [125.823524   124.882355   113.64706   ]\n",
            "   [ 11.705872    15.470566     5.411743  ]\n",
            "   ...\n",
            "   [204.29395    188.29395    165.2351    ]\n",
            "   [190.17615    174.17615    149.94083   ]\n",
            "   [181.         165.         140.        ]]]\n",
            "\n",
            "\n",
            " [[[ 27.          17.          15.        ]\n",
            "   [ 26.617647    17.          13.8529415 ]\n",
            "   [ 26.029411    17.          12.088235  ]\n",
            "   ...\n",
            "   [113.55847     59.61731     35.9115    ]\n",
            "   [ 84.734634    31.969955    14.146561  ]\n",
            "   [ 66.          14.           0.        ]]\n",
            "\n",
            "  [[ 24.323528    14.705882    11.558824  ]\n",
            "   [ 24.379757    14.99827     11.142734  ]\n",
            "   [ 24.466263    15.448097    10.502595  ]\n",
            "   ...\n",
            "   [111.00574     58.177887    33.313766  ]\n",
            "   [ 84.65597     32.329857    13.12324   ]\n",
            "   [ 67.52941     15.529411     0.        ]]\n",
            "\n",
            "  [[ 20.205881    11.17647      6.2647047 ]\n",
            "   [ 20.936852    11.918684     6.9731827 ]\n",
            "   [ 22.061419    13.060554     8.0631485 ]\n",
            "   ...\n",
            "   [107.078445    55.963387    29.317257  ]\n",
            "   [ 84.53495     32.883556    11.548901  ]\n",
            "   [ 69.882355    17.882353     0.        ]]\n",
            "\n",
            "  ...\n",
            "\n",
            "  [[ 13.323608     3.2059326    1.2353516 ]\n",
            "   [ 15.167883     5.0502067    3.0796256 ]\n",
            "   [ 18.005228     7.887552     5.9169707 ]\n",
            "   ...\n",
            "   [ 21.08307     10.966261     2.0527868 ]\n",
            "   [ 25.097073    13.232843     4.2847586 ]\n",
            "   [ 27.706055    14.706055     5.7354736 ]]\n",
            "\n",
            "  [[ 19.794266     7.3236237    5.941284  ]\n",
            "   [ 20.289045     7.8184023    6.436063  ]\n",
            "   [ 21.050243     8.5796       7.197261  ]\n",
            "   ...\n",
            "   [ 19.214657     8.526911     1.3435507 ]\n",
            "   [ 32.91745     20.82831     12.9182825 ]\n",
            "   [ 41.823853    28.823853    20.441513  ]]\n",
            "\n",
            "  [[ 24.          10.           9.        ]\n",
            "   [ 23.617647     9.617647     8.617647  ]\n",
            "   [ 23.029411     9.029411     8.029411  ]\n",
            "   ...\n",
            "   [ 18.000244     6.9414062    0.88256836]\n",
            "   [ 38.000458    25.765137    18.529816  ]\n",
            "   [ 51.          38.          30.        ]]]\n",
            "\n",
            "\n",
            " [[[ 68.         109.         161.        ]\n",
            "   [ 69.911766   110.911766   162.91176   ]\n",
            "   [ 72.85294    113.85294    165.85294   ]\n",
            "   ...\n",
            "   [ 72.         109.         162.        ]\n",
            "   [ 72.         109.         162.        ]\n",
            "   [ 72.         109.         162.        ]]\n",
            "\n",
            "  [[ 70.67647    111.29412    163.29411   ]\n",
            "   [ 71.711075   112.32872    164.32872   ]\n",
            "   [ 73.30277    113.92042    165.92041   ]\n",
            "   ...\n",
            "   [ 72.3936     109.3936     162.3936    ]\n",
            "   [ 72.618515   109.618515   162.61852   ]\n",
            "   [ 72.76471    109.76471    162.76471   ]]\n",
            "\n",
            "  [[ 74.79412    114.82353    166.82353   ]\n",
            "   [ 74.47924    114.50865    166.50865   ]\n",
            "   [ 73.99481    114.02422    166.02423   ]\n",
            "   ...\n",
            "   [ 72.999146   109.999146   162.99915   ]\n",
            "   [ 73.57008    110.57008    163.57008   ]\n",
            "   [ 73.94118    110.94118    163.94118   ]]\n",
            "\n",
            "  ...\n",
            "\n",
            "  [[114.97058    116.02942    118.117676  ]\n",
            "   [112.642715   114.08391    114.24915   ]\n",
            "   [109.061386   111.09081    108.29758   ]\n",
            "   ...\n",
            "   [119.26131    116.23189    107.23189   ]\n",
            "   [121.54505    118.51563    109.51563   ]\n",
            "   [123.02942    120.         111.        ]]\n",
            "\n",
            "  [[114.38234    116.61766    120.47064   ]\n",
            "   [111.37973    113.997406   115.70245   ]\n",
            "   [106.76032    109.96623    108.36678   ]\n",
            "   ...\n",
            "   [122.13329    118.51563    109.51563   ]\n",
            "   [123.03293    119.41527    110.41527   ]\n",
            "   [123.61766    120.         111.        ]]\n",
            "\n",
            "  [[114.         117.         122.        ]\n",
            "   [110.55882    113.94118    116.64706   ]\n",
            "   [105.2647     109.23529    108.411766  ]\n",
            "   ...\n",
            "   [124.         120.         111.        ]\n",
            "   [124.         120.         111.        ]\n",
            "   [124.         120.         111.        ]]]\n",
            "\n",
            "\n",
            " ...\n",
            "\n",
            "\n",
            " [[[ 51.          47.          48.        ]\n",
            "   [ 54.82353     50.82353     51.82353   ]\n",
            "   [ 60.705883    56.705883    57.705883  ]\n",
            "   ...\n",
            "   [ 55.          52.          47.        ]\n",
            "   [ 55.          52.          47.        ]\n",
            "   [ 55.          52.          47.        ]]\n",
            "\n",
            "  [[101.85294     97.85294     98.85294   ]\n",
            "   [102.752594    98.752594    99.752594  ]\n",
            "   [104.13667    100.13667    101.13667   ]\n",
            "   ...\n",
            "   [ 58.76738     55.76738     50.76738   ]\n",
            "   [ 65.28994     62.28994     57.28994   ]\n",
            "   [ 69.52941     66.52941     61.52941   ]]\n",
            "\n",
            "  [[180.08824    176.08824    177.08824   ]\n",
            "   [176.48962    172.48962    173.48962   ]\n",
            "   [170.9533     166.9533     167.9533    ]\n",
            "   ...\n",
            "   [ 64.563354    61.56335     56.56335   ]\n",
            "   [ 81.12062     78.12062     73.12062   ]\n",
            "   [ 91.882355    88.882355    83.882355  ]]\n",
            "\n",
            "  ...\n",
            "\n",
            "  [[ 78.64697     74.64697     71.64697   ]\n",
            "   [ 76.73521     72.73521     69.73521   ]\n",
            "   [ 73.79403     69.79403     66.79403   ]\n",
            "   ...\n",
            "   [ 55.23535     52.23535     47.23535   ]\n",
            "   [ 56.411835    53.411835    48.411835  ]\n",
            "   [ 57.176514    54.176514    49.176514  ]]\n",
            "\n",
            "  [[ 71.58807     67.58807     64.58807   ]\n",
            "   [ 69.67631     65.67631     62.676308  ]\n",
            "   [ 66.73513     62.73513     59.73513   ]\n",
            "   ...\n",
            "   [ 58.7648      55.7648      50.7648    ]\n",
            "   [ 59.941284    56.941284    51.941284  ]\n",
            "   [ 60.705963    57.705963    52.705963  ]]\n",
            "\n",
            "  [[ 67.          63.          60.        ]\n",
            "   [ 65.088234    61.088234    58.088234  ]\n",
            "   [ 62.147057    58.147057    55.147057  ]\n",
            "   ...\n",
            "   [ 61.058838    58.058838    53.058838  ]\n",
            "   [ 62.23532     59.23532     54.23532   ]\n",
            "   [ 63.          60.          55.        ]]]\n",
            "\n",
            "\n",
            " [[[180.         184.         196.        ]\n",
            "   [180.         184.         196.        ]\n",
            "   [180.         184.         196.        ]\n",
            "   ...\n",
            "   [164.         167.         176.        ]\n",
            "   [164.         167.         176.        ]\n",
            "   [164.         167.         176.        ]]\n",
            "\n",
            "  [[180.76471    184.76471    196.76471   ]\n",
            "   [180.76471    184.76471    196.76471   ]\n",
            "   [180.76471    184.76471    196.76471   ]\n",
            "   ...\n",
            "   [164.         167.         176.        ]\n",
            "   [164.         167.         176.        ]\n",
            "   [164.         167.         176.        ]]\n",
            "\n",
            "  [[181.94118    185.94118    197.94118   ]\n",
            "   [181.94118    185.94118    197.94118   ]\n",
            "   [181.94118    185.94118    197.94118   ]\n",
            "   ...\n",
            "   [164.         167.         176.        ]\n",
            "   [164.         167.         176.        ]\n",
            "   [164.         167.         176.        ]]\n",
            "\n",
            "  ...\n",
            "\n",
            "  [[127.97058    153.97058    154.97058   ]\n",
            "   [128.34169    154.34169    155.34169   ]\n",
            "   [128.91261    154.91261    155.91261   ]\n",
            "   ...\n",
            "   [117.942894   146.94289    144.94289   ]\n",
            "   [117.38926    146.38927    144.38927   ]\n",
            "   [117.02942    146.02942    144.02942   ]]\n",
            "\n",
            "  [[127.38234    153.38234    154.38234   ]\n",
            "   [127.52853    153.52853    154.52853   ]\n",
            "   [127.75343    153.75343    154.75343   ]\n",
            "   ...\n",
            "   [117.38926    146.38927    144.38927   ]\n",
            "   [117.52769    146.5277     144.5277    ]\n",
            "   [117.61766    146.61766    144.61766   ]]\n",
            "\n",
            "  [[127.         153.         154.        ]\n",
            "   [127.         153.         154.        ]\n",
            "   [127.         153.         154.        ]\n",
            "   ...\n",
            "   [117.02942    146.02942    144.02942   ]\n",
            "   [117.61766    146.61766    144.61766   ]\n",
            "   [118.         147.         145.        ]]]\n",
            "\n",
            "\n",
            " [[[  0.          41.          83.        ]\n",
            "   [  0.          41.          83.        ]\n",
            "   [  0.          41.          83.        ]\n",
            "   ...\n",
            "   [  0.          56.         101.        ]\n",
            "   [  0.          56.         101.        ]\n",
            "   [  0.          56.         101.        ]]\n",
            "\n",
            "  [[  0.          41.382355    83.382355  ]\n",
            "   [  0.          41.382355    83.382355  ]\n",
            "   [  0.          41.382355    83.382355  ]\n",
            "   ...\n",
            "   [  0.          56.         101.        ]\n",
            "   [  0.          56.         101.        ]\n",
            "   [  0.          56.         101.        ]]\n",
            "\n",
            "  [[  0.          41.97059     83.97059   ]\n",
            "   [  0.          41.97059     83.97059   ]\n",
            "   [  0.          41.97059     83.97059   ]\n",
            "   ...\n",
            "   [  0.          56.         101.        ]\n",
            "   [  0.          56.         101.        ]\n",
            "   [  0.          56.         101.        ]]\n",
            "\n",
            "  ...\n",
            "\n",
            "  [[238.         239.         243.        ]\n",
            "   [238.76471    239.76471    243.76471   ]\n",
            "   [239.94118    240.94118    244.94118   ]\n",
            "   ...\n",
            "   [229.96971    232.96971    237.96971   ]\n",
            "   [229.95241    232.95241    237.95241   ]\n",
            "   [229.94116    232.94116    237.94116   ]]\n",
            "\n",
            "  [[238.         239.         243.        ]\n",
            "   [238.76471    239.76471    243.76471   ]\n",
            "   [239.94118    240.94118    244.94118   ]\n",
            "   ...\n",
            "   [229.36417    232.36417    237.36417   ]\n",
            "   [229.00084    232.00084    237.00084   ]\n",
            "   [228.76468    231.76468    236.76468   ]]\n",
            "\n",
            "  [[238.         239.         243.        ]\n",
            "   [238.76471    239.76471    243.76471   ]\n",
            "   [239.94118    240.94118    244.94118   ]\n",
            "   ...\n",
            "   [228.97058    231.97058    236.97058   ]\n",
            "   [228.38234    231.38234    236.38234   ]\n",
            "   [228.         231.         236.        ]]]]\n",
            "Label batch is [1 5 5 1 1 3 0 4 1 2 3 4 5 5 5 4 2 5 4 2 5 0 4 2 4 0 5 4 1 1 2 3]\n"
          ]
        }
      ]
    },
    {
      "cell_type": "code",
      "source": [
        "import os"
      ],
      "metadata": {
        "id": "yAGTOWzBYIiP"
      },
      "execution_count": null,
      "outputs": []
    },
    {
      "cell_type": "code",
      "source": [
        "for class_name in os.listdir(data_dir):\n",
        "  class_path = os.path.join(data_dir,class_name)\n",
        "  if os.path.isdir(class_path):\n",
        "    count =len([f for f in os.listdir(class_path) if os.path.isfile(os.path.join(class_path,f))])\n",
        "    print(f\"class counts : {count} Images\")\n"
      ],
      "metadata": {
        "colab": {
          "base_uri": "https://localhost:8080/"
        },
        "id": "1UUhEgMvYXtJ",
        "outputId": "d08b326a-df50-467d-ee88-9a743d7e8eaf"
      },
      "execution_count": null,
      "outputs": [
        {
          "output_type": "stream",
          "name": "stdout",
          "text": [
            "class counts : 2191 Images\n",
            "class counts : 2271 Images\n",
            "class counts : 2274 Images\n",
            "class counts : 2382 Images\n",
            "class counts : 2404 Images\n",
            "class counts : 2512 Images\n"
          ]
        }
      ]
    },
    {
      "cell_type": "code",
      "source": [
        "model = tf.keras.Sequential([\n",
        "    layers.RandomFlip('horizontal',input_shape=(255,255,3)),\n",
        "    layers.RandomRotation(0.15),\n",
        "\n",
        "    layers.Rescaling(1./255),\n",
        "\n",
        "    layers.Conv2D(32,(3,3),activation='relu',padding='same'),\n",
        "    layers.MaxPooling2D((2,2)),\n",
        "\n",
        "    layers.Conv2D(64,(3,3),activation='relu',padding='same'),\n",
        "    layers.MaxPooling2D((2,2)),\n",
        "\n",
        "    layers.Conv2D(128,(3,3),activation='relu',padding='same'),\n",
        "    layers.MaxPooling2D((2,2)),\n",
        "\n",
        "    layers.Dropout(0.2),\n",
        "    layers.BatchNormalization(),\n",
        "\n",
        "    layers.Flatten(),\n",
        "\n",
        "    layers.Dense(128,activation='relu'),\n",
        "    layers.Dense(32,activation='relu'),\n",
        "    layers.Dense(num_class,activation='softmax')\n",
        "\n",
        "])"
      ],
      "metadata": {
        "colab": {
          "base_uri": "https://localhost:8080/"
        },
        "id": "68e5cAClmUvx",
        "outputId": "79014fc0-5976-4fea-bec7-33e92abc5f77"
      },
      "execution_count": null,
      "outputs": [
        {
          "output_type": "stream",
          "name": "stderr",
          "text": [
            "/usr/local/lib/python3.12/dist-packages/keras/src/layers/preprocessing/tf_data_layer.py:19: UserWarning: Do not pass an `input_shape`/`input_dim` argument to a layer. When using Sequential models, prefer using an `Input(shape)` object as the first layer in the model instead.\n",
            "  super().__init__(**kwargs)\n"
          ]
        }
      ]
    },
    {
      "cell_type": "code",
      "source": [
        "model.compile(optimizer='adam',\n",
        "              loss='sparse_categorical_crossentropy',\n",
        "              metrics=['accuracy'])"
      ],
      "metadata": {
        "id": "cbKvEdbdymyC"
      },
      "execution_count": null,
      "outputs": []
    },
    {
      "cell_type": "code",
      "source": [
        "model.summary()"
      ],
      "metadata": {
        "colab": {
          "base_uri": "https://localhost:8080/",
          "height": 680
        },
        "id": "Ws6pW4qQzQCT",
        "outputId": "61911978-28c7-472c-c087-0c034cd616b4"
      },
      "execution_count": null,
      "outputs": [
        {
          "output_type": "display_data",
          "data": {
            "text/plain": [
              "\u001b[1mModel: \"sequential\"\u001b[0m\n"
            ],
            "text/html": [
              "<pre style=\"white-space:pre;overflow-x:auto;line-height:normal;font-family:Menlo,'DejaVu Sans Mono',consolas,'Courier New',monospace\"><span style=\"font-weight: bold\">Model: \"sequential\"</span>\n",
              "</pre>\n"
            ]
          },
          "metadata": {}
        },
        {
          "output_type": "display_data",
          "data": {
            "text/plain": [
              "┏━━━━━━━━━━━━━━━━━━━━━━━━━━━━━━━━━┳━━━━━━━━━━━━━━━━━━━━━━━━┳━━━━━━━━━━━━━━━┓\n",
              "┃\u001b[1m \u001b[0m\u001b[1mLayer (type)                   \u001b[0m\u001b[1m \u001b[0m┃\u001b[1m \u001b[0m\u001b[1mOutput Shape          \u001b[0m\u001b[1m \u001b[0m┃\u001b[1m \u001b[0m\u001b[1m      Param #\u001b[0m\u001b[1m \u001b[0m┃\n",
              "┡━━━━━━━━━━━━━━━━━━━━━━━━━━━━━━━━━╇━━━━━━━━━━━━━━━━━━━━━━━━╇━━━━━━━━━━━━━━━┩\n",
              "│ random_flip (\u001b[38;5;33mRandomFlip\u001b[0m)        │ (\u001b[38;5;45mNone\u001b[0m, \u001b[38;5;34m255\u001b[0m, \u001b[38;5;34m255\u001b[0m, \u001b[38;5;34m3\u001b[0m)    │             \u001b[38;5;34m0\u001b[0m │\n",
              "├─────────────────────────────────┼────────────────────────┼───────────────┤\n",
              "│ random_rotation                 │ (\u001b[38;5;45mNone\u001b[0m, \u001b[38;5;34m255\u001b[0m, \u001b[38;5;34m255\u001b[0m, \u001b[38;5;34m3\u001b[0m)    │             \u001b[38;5;34m0\u001b[0m │\n",
              "│ (\u001b[38;5;33mRandomRotation\u001b[0m)                │                        │               │\n",
              "├─────────────────────────────────┼────────────────────────┼───────────────┤\n",
              "│ rescaling (\u001b[38;5;33mRescaling\u001b[0m)           │ (\u001b[38;5;45mNone\u001b[0m, \u001b[38;5;34m255\u001b[0m, \u001b[38;5;34m255\u001b[0m, \u001b[38;5;34m3\u001b[0m)    │             \u001b[38;5;34m0\u001b[0m │\n",
              "├─────────────────────────────────┼────────────────────────┼───────────────┤\n",
              "│ conv2d (\u001b[38;5;33mConv2D\u001b[0m)                 │ (\u001b[38;5;45mNone\u001b[0m, \u001b[38;5;34m255\u001b[0m, \u001b[38;5;34m255\u001b[0m, \u001b[38;5;34m32\u001b[0m)   │           \u001b[38;5;34m896\u001b[0m │\n",
              "├─────────────────────────────────┼────────────────────────┼───────────────┤\n",
              "│ max_pooling2d (\u001b[38;5;33mMaxPooling2D\u001b[0m)    │ (\u001b[38;5;45mNone\u001b[0m, \u001b[38;5;34m127\u001b[0m, \u001b[38;5;34m127\u001b[0m, \u001b[38;5;34m32\u001b[0m)   │             \u001b[38;5;34m0\u001b[0m │\n",
              "├─────────────────────────────────┼────────────────────────┼───────────────┤\n",
              "│ conv2d_1 (\u001b[38;5;33mConv2D\u001b[0m)               │ (\u001b[38;5;45mNone\u001b[0m, \u001b[38;5;34m127\u001b[0m, \u001b[38;5;34m127\u001b[0m, \u001b[38;5;34m64\u001b[0m)   │        \u001b[38;5;34m18,496\u001b[0m │\n",
              "├─────────────────────────────────┼────────────────────────┼───────────────┤\n",
              "│ max_pooling2d_1 (\u001b[38;5;33mMaxPooling2D\u001b[0m)  │ (\u001b[38;5;45mNone\u001b[0m, \u001b[38;5;34m63\u001b[0m, \u001b[38;5;34m63\u001b[0m, \u001b[38;5;34m64\u001b[0m)     │             \u001b[38;5;34m0\u001b[0m │\n",
              "├─────────────────────────────────┼────────────────────────┼───────────────┤\n",
              "│ conv2d_2 (\u001b[38;5;33mConv2D\u001b[0m)               │ (\u001b[38;5;45mNone\u001b[0m, \u001b[38;5;34m63\u001b[0m, \u001b[38;5;34m63\u001b[0m, \u001b[38;5;34m128\u001b[0m)    │        \u001b[38;5;34m73,856\u001b[0m │\n",
              "├─────────────────────────────────┼────────────────────────┼───────────────┤\n",
              "│ max_pooling2d_2 (\u001b[38;5;33mMaxPooling2D\u001b[0m)  │ (\u001b[38;5;45mNone\u001b[0m, \u001b[38;5;34m31\u001b[0m, \u001b[38;5;34m31\u001b[0m, \u001b[38;5;34m128\u001b[0m)    │             \u001b[38;5;34m0\u001b[0m │\n",
              "├─────────────────────────────────┼────────────────────────┼───────────────┤\n",
              "│ dropout (\u001b[38;5;33mDropout\u001b[0m)               │ (\u001b[38;5;45mNone\u001b[0m, \u001b[38;5;34m31\u001b[0m, \u001b[38;5;34m31\u001b[0m, \u001b[38;5;34m128\u001b[0m)    │             \u001b[38;5;34m0\u001b[0m │\n",
              "├─────────────────────────────────┼────────────────────────┼───────────────┤\n",
              "│ batch_normalization             │ (\u001b[38;5;45mNone\u001b[0m, \u001b[38;5;34m31\u001b[0m, \u001b[38;5;34m31\u001b[0m, \u001b[38;5;34m128\u001b[0m)    │           \u001b[38;5;34m512\u001b[0m │\n",
              "│ (\u001b[38;5;33mBatchNormalization\u001b[0m)            │                        │               │\n",
              "├─────────────────────────────────┼────────────────────────┼───────────────┤\n",
              "│ flatten (\u001b[38;5;33mFlatten\u001b[0m)               │ (\u001b[38;5;45mNone\u001b[0m, \u001b[38;5;34m123008\u001b[0m)         │             \u001b[38;5;34m0\u001b[0m │\n",
              "├─────────────────────────────────┼────────────────────────┼───────────────┤\n",
              "│ dense (\u001b[38;5;33mDense\u001b[0m)                   │ (\u001b[38;5;45mNone\u001b[0m, \u001b[38;5;34m128\u001b[0m)            │    \u001b[38;5;34m15,745,152\u001b[0m │\n",
              "├─────────────────────────────────┼────────────────────────┼───────────────┤\n",
              "│ dense_1 (\u001b[38;5;33mDense\u001b[0m)                 │ (\u001b[38;5;45mNone\u001b[0m, \u001b[38;5;34m32\u001b[0m)             │         \u001b[38;5;34m4,128\u001b[0m │\n",
              "├─────────────────────────────────┼────────────────────────┼───────────────┤\n",
              "│ dense_2 (\u001b[38;5;33mDense\u001b[0m)                 │ (\u001b[38;5;45mNone\u001b[0m, \u001b[38;5;34m6\u001b[0m)              │           \u001b[38;5;34m198\u001b[0m │\n",
              "└─────────────────────────────────┴────────────────────────┴───────────────┘\n"
            ],
            "text/html": [
              "<pre style=\"white-space:pre;overflow-x:auto;line-height:normal;font-family:Menlo,'DejaVu Sans Mono',consolas,'Courier New',monospace\">┏━━━━━━━━━━━━━━━━━━━━━━━━━━━━━━━━━┳━━━━━━━━━━━━━━━━━━━━━━━━┳━━━━━━━━━━━━━━━┓\n",
              "┃<span style=\"font-weight: bold\"> Layer (type)                    </span>┃<span style=\"font-weight: bold\"> Output Shape           </span>┃<span style=\"font-weight: bold\">       Param # </span>┃\n",
              "┡━━━━━━━━━━━━━━━━━━━━━━━━━━━━━━━━━╇━━━━━━━━━━━━━━━━━━━━━━━━╇━━━━━━━━━━━━━━━┩\n",
              "│ random_flip (<span style=\"color: #0087ff; text-decoration-color: #0087ff\">RandomFlip</span>)        │ (<span style=\"color: #00d7ff; text-decoration-color: #00d7ff\">None</span>, <span style=\"color: #00af00; text-decoration-color: #00af00\">255</span>, <span style=\"color: #00af00; text-decoration-color: #00af00\">255</span>, <span style=\"color: #00af00; text-decoration-color: #00af00\">3</span>)    │             <span style=\"color: #00af00; text-decoration-color: #00af00\">0</span> │\n",
              "├─────────────────────────────────┼────────────────────────┼───────────────┤\n",
              "│ random_rotation                 │ (<span style=\"color: #00d7ff; text-decoration-color: #00d7ff\">None</span>, <span style=\"color: #00af00; text-decoration-color: #00af00\">255</span>, <span style=\"color: #00af00; text-decoration-color: #00af00\">255</span>, <span style=\"color: #00af00; text-decoration-color: #00af00\">3</span>)    │             <span style=\"color: #00af00; text-decoration-color: #00af00\">0</span> │\n",
              "│ (<span style=\"color: #0087ff; text-decoration-color: #0087ff\">RandomRotation</span>)                │                        │               │\n",
              "├─────────────────────────────────┼────────────────────────┼───────────────┤\n",
              "│ rescaling (<span style=\"color: #0087ff; text-decoration-color: #0087ff\">Rescaling</span>)           │ (<span style=\"color: #00d7ff; text-decoration-color: #00d7ff\">None</span>, <span style=\"color: #00af00; text-decoration-color: #00af00\">255</span>, <span style=\"color: #00af00; text-decoration-color: #00af00\">255</span>, <span style=\"color: #00af00; text-decoration-color: #00af00\">3</span>)    │             <span style=\"color: #00af00; text-decoration-color: #00af00\">0</span> │\n",
              "├─────────────────────────────────┼────────────────────────┼───────────────┤\n",
              "│ conv2d (<span style=\"color: #0087ff; text-decoration-color: #0087ff\">Conv2D</span>)                 │ (<span style=\"color: #00d7ff; text-decoration-color: #00d7ff\">None</span>, <span style=\"color: #00af00; text-decoration-color: #00af00\">255</span>, <span style=\"color: #00af00; text-decoration-color: #00af00\">255</span>, <span style=\"color: #00af00; text-decoration-color: #00af00\">32</span>)   │           <span style=\"color: #00af00; text-decoration-color: #00af00\">896</span> │\n",
              "├─────────────────────────────────┼────────────────────────┼───────────────┤\n",
              "│ max_pooling2d (<span style=\"color: #0087ff; text-decoration-color: #0087ff\">MaxPooling2D</span>)    │ (<span style=\"color: #00d7ff; text-decoration-color: #00d7ff\">None</span>, <span style=\"color: #00af00; text-decoration-color: #00af00\">127</span>, <span style=\"color: #00af00; text-decoration-color: #00af00\">127</span>, <span style=\"color: #00af00; text-decoration-color: #00af00\">32</span>)   │             <span style=\"color: #00af00; text-decoration-color: #00af00\">0</span> │\n",
              "├─────────────────────────────────┼────────────────────────┼───────────────┤\n",
              "│ conv2d_1 (<span style=\"color: #0087ff; text-decoration-color: #0087ff\">Conv2D</span>)               │ (<span style=\"color: #00d7ff; text-decoration-color: #00d7ff\">None</span>, <span style=\"color: #00af00; text-decoration-color: #00af00\">127</span>, <span style=\"color: #00af00; text-decoration-color: #00af00\">127</span>, <span style=\"color: #00af00; text-decoration-color: #00af00\">64</span>)   │        <span style=\"color: #00af00; text-decoration-color: #00af00\">18,496</span> │\n",
              "├─────────────────────────────────┼────────────────────────┼───────────────┤\n",
              "│ max_pooling2d_1 (<span style=\"color: #0087ff; text-decoration-color: #0087ff\">MaxPooling2D</span>)  │ (<span style=\"color: #00d7ff; text-decoration-color: #00d7ff\">None</span>, <span style=\"color: #00af00; text-decoration-color: #00af00\">63</span>, <span style=\"color: #00af00; text-decoration-color: #00af00\">63</span>, <span style=\"color: #00af00; text-decoration-color: #00af00\">64</span>)     │             <span style=\"color: #00af00; text-decoration-color: #00af00\">0</span> │\n",
              "├─────────────────────────────────┼────────────────────────┼───────────────┤\n",
              "│ conv2d_2 (<span style=\"color: #0087ff; text-decoration-color: #0087ff\">Conv2D</span>)               │ (<span style=\"color: #00d7ff; text-decoration-color: #00d7ff\">None</span>, <span style=\"color: #00af00; text-decoration-color: #00af00\">63</span>, <span style=\"color: #00af00; text-decoration-color: #00af00\">63</span>, <span style=\"color: #00af00; text-decoration-color: #00af00\">128</span>)    │        <span style=\"color: #00af00; text-decoration-color: #00af00\">73,856</span> │\n",
              "├─────────────────────────────────┼────────────────────────┼───────────────┤\n",
              "│ max_pooling2d_2 (<span style=\"color: #0087ff; text-decoration-color: #0087ff\">MaxPooling2D</span>)  │ (<span style=\"color: #00d7ff; text-decoration-color: #00d7ff\">None</span>, <span style=\"color: #00af00; text-decoration-color: #00af00\">31</span>, <span style=\"color: #00af00; text-decoration-color: #00af00\">31</span>, <span style=\"color: #00af00; text-decoration-color: #00af00\">128</span>)    │             <span style=\"color: #00af00; text-decoration-color: #00af00\">0</span> │\n",
              "├─────────────────────────────────┼────────────────────────┼───────────────┤\n",
              "│ dropout (<span style=\"color: #0087ff; text-decoration-color: #0087ff\">Dropout</span>)               │ (<span style=\"color: #00d7ff; text-decoration-color: #00d7ff\">None</span>, <span style=\"color: #00af00; text-decoration-color: #00af00\">31</span>, <span style=\"color: #00af00; text-decoration-color: #00af00\">31</span>, <span style=\"color: #00af00; text-decoration-color: #00af00\">128</span>)    │             <span style=\"color: #00af00; text-decoration-color: #00af00\">0</span> │\n",
              "├─────────────────────────────────┼────────────────────────┼───────────────┤\n",
              "│ batch_normalization             │ (<span style=\"color: #00d7ff; text-decoration-color: #00d7ff\">None</span>, <span style=\"color: #00af00; text-decoration-color: #00af00\">31</span>, <span style=\"color: #00af00; text-decoration-color: #00af00\">31</span>, <span style=\"color: #00af00; text-decoration-color: #00af00\">128</span>)    │           <span style=\"color: #00af00; text-decoration-color: #00af00\">512</span> │\n",
              "│ (<span style=\"color: #0087ff; text-decoration-color: #0087ff\">BatchNormalization</span>)            │                        │               │\n",
              "├─────────────────────────────────┼────────────────────────┼───────────────┤\n",
              "│ flatten (<span style=\"color: #0087ff; text-decoration-color: #0087ff\">Flatten</span>)               │ (<span style=\"color: #00d7ff; text-decoration-color: #00d7ff\">None</span>, <span style=\"color: #00af00; text-decoration-color: #00af00\">123008</span>)         │             <span style=\"color: #00af00; text-decoration-color: #00af00\">0</span> │\n",
              "├─────────────────────────────────┼────────────────────────┼───────────────┤\n",
              "│ dense (<span style=\"color: #0087ff; text-decoration-color: #0087ff\">Dense</span>)                   │ (<span style=\"color: #00d7ff; text-decoration-color: #00d7ff\">None</span>, <span style=\"color: #00af00; text-decoration-color: #00af00\">128</span>)            │    <span style=\"color: #00af00; text-decoration-color: #00af00\">15,745,152</span> │\n",
              "├─────────────────────────────────┼────────────────────────┼───────────────┤\n",
              "│ dense_1 (<span style=\"color: #0087ff; text-decoration-color: #0087ff\">Dense</span>)                 │ (<span style=\"color: #00d7ff; text-decoration-color: #00d7ff\">None</span>, <span style=\"color: #00af00; text-decoration-color: #00af00\">32</span>)             │         <span style=\"color: #00af00; text-decoration-color: #00af00\">4,128</span> │\n",
              "├─────────────────────────────────┼────────────────────────┼───────────────┤\n",
              "│ dense_2 (<span style=\"color: #0087ff; text-decoration-color: #0087ff\">Dense</span>)                 │ (<span style=\"color: #00d7ff; text-decoration-color: #00d7ff\">None</span>, <span style=\"color: #00af00; text-decoration-color: #00af00\">6</span>)              │           <span style=\"color: #00af00; text-decoration-color: #00af00\">198</span> │\n",
              "└─────────────────────────────────┴────────────────────────┴───────────────┘\n",
              "</pre>\n"
            ]
          },
          "metadata": {}
        },
        {
          "output_type": "display_data",
          "data": {
            "text/plain": [
              "\u001b[1m Total params: \u001b[0m\u001b[38;5;34m15,843,238\u001b[0m (60.44 MB)\n"
            ],
            "text/html": [
              "<pre style=\"white-space:pre;overflow-x:auto;line-height:normal;font-family:Menlo,'DejaVu Sans Mono',consolas,'Courier New',monospace\"><span style=\"font-weight: bold\"> Total params: </span><span style=\"color: #00af00; text-decoration-color: #00af00\">15,843,238</span> (60.44 MB)\n",
              "</pre>\n"
            ]
          },
          "metadata": {}
        },
        {
          "output_type": "display_data",
          "data": {
            "text/plain": [
              "\u001b[1m Trainable params: \u001b[0m\u001b[38;5;34m15,842,982\u001b[0m (60.44 MB)\n"
            ],
            "text/html": [
              "<pre style=\"white-space:pre;overflow-x:auto;line-height:normal;font-family:Menlo,'DejaVu Sans Mono',consolas,'Courier New',monospace\"><span style=\"font-weight: bold\"> Trainable params: </span><span style=\"color: #00af00; text-decoration-color: #00af00\">15,842,982</span> (60.44 MB)\n",
              "</pre>\n"
            ]
          },
          "metadata": {}
        },
        {
          "output_type": "display_data",
          "data": {
            "text/plain": [
              "\u001b[1m Non-trainable params: \u001b[0m\u001b[38;5;34m256\u001b[0m (1.00 KB)\n"
            ],
            "text/html": [
              "<pre style=\"white-space:pre;overflow-x:auto;line-height:normal;font-family:Menlo,'DejaVu Sans Mono',consolas,'Courier New',monospace\"><span style=\"font-weight: bold\"> Non-trainable params: </span><span style=\"color: #00af00; text-decoration-color: #00af00\">256</span> (1.00 KB)\n",
              "</pre>\n"
            ]
          },
          "metadata": {}
        }
      ]
    },
    {
      "cell_type": "code",
      "source": [
        "history=model.fit(data,epochs=20,validation_data=validation_data)"
      ],
      "metadata": {
        "colab": {
          "base_uri": "https://localhost:8080/"
        },
        "id": "2qKmV-i0zShQ",
        "outputId": "0422fe32-cc06-45de-9876-6ead3af3820a"
      },
      "execution_count": null,
      "outputs": [
        {
          "output_type": "stream",
          "name": "stdout",
          "text": [
            "Epoch 1/20\n",
            "\u001b[1m395/395\u001b[0m \u001b[32m━━━━━━━━━━━━━━━━━━━━\u001b[0m\u001b[37m\u001b[0m \u001b[1m58s\u001b[0m 127ms/step - accuracy: 0.5097 - loss: 1.4111 - val_accuracy: 0.3186 - val_loss: 1.5951\n",
            "Epoch 2/20\n",
            "\u001b[1m395/395\u001b[0m \u001b[32m━━━━━━━━━━━━━━━━━━━━\u001b[0m\u001b[37m\u001b[0m \u001b[1m73s\u001b[0m 119ms/step - accuracy: 0.6218 - loss: 0.9949 - val_accuracy: 0.6379 - val_loss: 0.9692\n",
            "Epoch 3/20\n",
            "\u001b[1m395/395\u001b[0m \u001b[32m━━━━━━━━━━━━━━━━━━━━\u001b[0m\u001b[37m\u001b[0m \u001b[1m82s\u001b[0m 119ms/step - accuracy: 0.6659 - loss: 0.8867 - val_accuracy: 0.6287 - val_loss: 1.0104\n",
            "Epoch 4/20\n",
            "\u001b[1m395/395\u001b[0m \u001b[32m━━━━━━━━━━━━━━━━━━━━\u001b[0m\u001b[37m\u001b[0m \u001b[1m82s\u001b[0m 119ms/step - accuracy: 0.6888 - loss: 0.8320 - val_accuracy: 0.7249 - val_loss: 0.7300\n",
            "Epoch 5/20\n",
            "\u001b[1m395/395\u001b[0m \u001b[32m━━━━━━━━━━━━━━━━━━━━\u001b[0m\u001b[37m\u001b[0m \u001b[1m82s\u001b[0m 120ms/step - accuracy: 0.7138 - loss: 0.7652 - val_accuracy: 0.7149 - val_loss: 0.8177\n",
            "Epoch 6/20\n",
            "\u001b[1m395/395\u001b[0m \u001b[32m━━━━━━━━━━━━━━━━━━━━\u001b[0m\u001b[37m\u001b[0m \u001b[1m82s\u001b[0m 119ms/step - accuracy: 0.7363 - loss: 0.7112 - val_accuracy: 0.7741 - val_loss: 0.6371\n",
            "Epoch 7/20\n",
            "\u001b[1m395/395\u001b[0m \u001b[32m━━━━━━━━━━━━━━━━━━━━\u001b[0m\u001b[37m\u001b[0m \u001b[1m82s\u001b[0m 119ms/step - accuracy: 0.7567 - loss: 0.6541 - val_accuracy: 0.7156 - val_loss: 0.7926\n",
            "Epoch 8/20\n",
            "\u001b[1m395/395\u001b[0m \u001b[32m━━━━━━━━━━━━━━━━━━━━\u001b[0m\u001b[37m\u001b[0m \u001b[1m49s\u001b[0m 123ms/step - accuracy: 0.7688 - loss: 0.6313 - val_accuracy: 0.7662 - val_loss: 0.6983\n",
            "Epoch 9/20\n",
            "\u001b[1m395/395\u001b[0m \u001b[32m━━━━━━━━━━━━━━━━━━━━\u001b[0m\u001b[37m\u001b[0m \u001b[1m82s\u001b[0m 122ms/step - accuracy: 0.7906 - loss: 0.5853 - val_accuracy: 0.7762 - val_loss: 0.6092\n",
            "Epoch 10/20\n",
            "\u001b[1m395/395\u001b[0m \u001b[32m━━━━━━━━━━━━━━━━━━━━\u001b[0m\u001b[37m\u001b[0m \u001b[1m83s\u001b[0m 124ms/step - accuracy: 0.7849 - loss: 0.5758 - val_accuracy: 0.7954 - val_loss: 0.5892\n",
            "Epoch 11/20\n",
            "\u001b[1m395/395\u001b[0m \u001b[32m━━━━━━━━━━━━━━━━━━━━\u001b[0m\u001b[37m\u001b[0m \u001b[1m80s\u001b[0m 120ms/step - accuracy: 0.7940 - loss: 0.5645 - val_accuracy: 0.7897 - val_loss: 0.6012\n",
            "Epoch 12/20\n",
            "\u001b[1m395/395\u001b[0m \u001b[32m━━━━━━━━━━━━━━━━━━━━\u001b[0m\u001b[37m\u001b[0m \u001b[1m82s\u001b[0m 119ms/step - accuracy: 0.8020 - loss: 0.5353 - val_accuracy: 0.7448 - val_loss: 0.8189\n",
            "Epoch 13/20\n",
            "\u001b[1m395/395\u001b[0m \u001b[32m━━━━━━━━━━━━━━━━━━━━\u001b[0m\u001b[37m\u001b[0m \u001b[1m47s\u001b[0m 120ms/step - accuracy: 0.8099 - loss: 0.5181 - val_accuracy: 0.7555 - val_loss: 0.6737\n",
            "Epoch 14/20\n",
            "\u001b[1m395/395\u001b[0m \u001b[32m━━━━━━━━━━━━━━━━━━━━\u001b[0m\u001b[37m\u001b[0m \u001b[1m82s\u001b[0m 119ms/step - accuracy: 0.8121 - loss: 0.5150 - val_accuracy: 0.7691 - val_loss: 0.6375\n",
            "Epoch 15/20\n",
            "\u001b[1m395/395\u001b[0m \u001b[32m━━━━━━━━━━━━━━━━━━━━\u001b[0m\u001b[37m\u001b[0m \u001b[1m82s\u001b[0m 119ms/step - accuracy: 0.8221 - loss: 0.4979 - val_accuracy: 0.8204 - val_loss: 0.5403\n",
            "Epoch 16/20\n",
            "\u001b[1m395/395\u001b[0m \u001b[32m━━━━━━━━━━━━━━━━━━━━\u001b[0m\u001b[37m\u001b[0m \u001b[1m82s\u001b[0m 120ms/step - accuracy: 0.8267 - loss: 0.4629 - val_accuracy: 0.7406 - val_loss: 0.8032\n",
            "Epoch 17/20\n",
            "\u001b[1m395/395\u001b[0m \u001b[32m━━━━━━━━━━━━━━━━━━━━\u001b[0m\u001b[37m\u001b[0m \u001b[1m48s\u001b[0m 121ms/step - accuracy: 0.8223 - loss: 0.4895 - val_accuracy: 0.8232 - val_loss: 0.5015\n",
            "Epoch 18/20\n",
            "\u001b[1m395/395\u001b[0m \u001b[32m━━━━━━━━━━━━━━━━━━━━\u001b[0m\u001b[37m\u001b[0m \u001b[1m82s\u001b[0m 120ms/step - accuracy: 0.8366 - loss: 0.4531 - val_accuracy: 0.7548 - val_loss: 0.6963\n",
            "Epoch 19/20\n",
            "\u001b[1m395/395\u001b[0m \u001b[32m━━━━━━━━━━━━━━━━━━━━\u001b[0m\u001b[37m\u001b[0m \u001b[1m82s\u001b[0m 120ms/step - accuracy: 0.8392 - loss: 0.4620 - val_accuracy: 0.7691 - val_loss: 0.6979\n",
            "Epoch 20/20\n",
            "\u001b[1m395/395\u001b[0m \u001b[32m━━━━━━━━━━━━━━━━━━━━\u001b[0m\u001b[37m\u001b[0m \u001b[1m49s\u001b[0m 123ms/step - accuracy: 0.8364 - loss: 0.4471 - val_accuracy: 0.7135 - val_loss: 0.8126\n"
          ]
        }
      ]
    },
    {
      "cell_type": "code",
      "source": [
        "history.history"
      ],
      "metadata": {
        "colab": {
          "base_uri": "https://localhost:8080/"
        },
        "id": "ZKMJraaI2cxO",
        "outputId": "af9090ec-b222-48a0-bc85-5732e149c596"
      },
      "execution_count": null,
      "outputs": [
        {
          "output_type": "execute_result",
          "data": {
            "text/plain": [
              "{'accuracy': [0.5663051009178162,\n",
              "  0.636370837688446,\n",
              "  0.6723141670227051,\n",
              "  0.697331964969635,\n",
              "  0.7240915298461914,\n",
              "  0.739608883857727,\n",
              "  0.7616182565689087,\n",
              "  0.7746813297271729,\n",
              "  0.7889319658279419,\n",
              "  0.7892486453056335,\n",
              "  0.7978782653808594,\n",
              "  0.799144983291626,\n",
              "  0.8106246590614319,\n",
              "  0.8148207068443298,\n",
              "  0.8233710527420044,\n",
              "  0.8244003057479858,\n",
              "  0.8268545866012573,\n",
              "  0.8355633020401001,\n",
              "  0.839759349822998,\n",
              "  0.8364341855049133],\n",
              " 'loss': [1.1581295728683472,\n",
              "  0.958783745765686,\n",
              "  0.8743345737457275,\n",
              "  0.8092573285102844,\n",
              "  0.744189977645874,\n",
              "  0.6961197257041931,\n",
              "  0.6478724479675293,\n",
              "  0.618996262550354,\n",
              "  0.5874821543693542,\n",
              "  0.5708720684051514,\n",
              "  0.5533618330955505,\n",
              "  0.5419544577598572,\n",
              "  0.5195931792259216,\n",
              "  0.5120311975479126,\n",
              "  0.4921118915081024,\n",
              "  0.47469958662986755,\n",
              "  0.48084476590156555,\n",
              "  0.45553553104400635,\n",
              "  0.45848461985588074,\n",
              "  0.444354385137558],\n",
              " 'val_accuracy': [0.318602979183197,\n",
              "  0.6379187703132629,\n",
              "  0.6286528706550598,\n",
              "  0.724875271320343,\n",
              "  0.7148966789245605,\n",
              "  0.7740556001663208,\n",
              "  0.7156094312667847,\n",
              "  0.7662152647972107,\n",
              "  0.7761938571929932,\n",
              "  0.7954383492469788,\n",
              "  0.789736270904541,\n",
              "  0.7448325157165527,\n",
              "  0.7555238604545593,\n",
              "  0.7690662741661072,\n",
              "  0.8203848600387573,\n",
              "  0.7405559420585632,\n",
              "  0.8232359290122986,\n",
              "  0.7548111081123352,\n",
              "  0.7690662741661072,\n",
              "  0.7134711146354675],\n",
              " 'val_loss': [1.595084309577942,\n",
              "  0.9692034721374512,\n",
              "  1.0103955268859863,\n",
              "  0.7300452589988708,\n",
              "  0.8177238702774048,\n",
              "  0.6371446847915649,\n",
              "  0.7925602793693542,\n",
              "  0.69831782579422,\n",
              "  0.609161376953125,\n",
              "  0.5892220735549927,\n",
              "  0.601155698299408,\n",
              "  0.8189025521278381,\n",
              "  0.6736760139465332,\n",
              "  0.6375041007995605,\n",
              "  0.5403193831443787,\n",
              "  0.8032064437866211,\n",
              "  0.5015363097190857,\n",
              "  0.6963158845901489,\n",
              "  0.6979051828384399,\n",
              "  0.8126145005226135]}"
            ]
          },
          "metadata": {},
          "execution_count": 17
        }
      ]
    },
    {
      "cell_type": "code",
      "source": [
        "model.save('intel.h5')"
      ],
      "metadata": {
        "colab": {
          "base_uri": "https://localhost:8080/"
        },
        "id": "28UMhowR8rvx",
        "outputId": "f9e1a0b1-f8a8-478c-bdcc-b49195e7bdb5"
      },
      "execution_count": null,
      "outputs": [
        {
          "output_type": "stream",
          "name": "stderr",
          "text": [
            "WARNING:absl:You are saving your model as an HDF5 file via `model.save()` or `keras.saving.save_model(model)`. This file format is considered legacy. We recommend using instead the native Keras format, e.g. `model.save('my_model.keras')` or `keras.saving.save_model(model, 'my_model.keras')`. \n"
          ]
        }
      ]
    },
    {
      "cell_type": "code",
      "source": [],
      "metadata": {
        "id": "pQqjcR7t81IE"
      },
      "execution_count": null,
      "outputs": []
    }
  ]
}